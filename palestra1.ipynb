{
 "cells": [
  {
   "attachments": {},
   "cell_type": "markdown",
   "metadata": {},
   "source": [
    "# Inteligência Artificial"
   ]
  },
  {
   "attachments": {},
   "cell_type": "markdown",
   "metadata": {},
   "source": [
    "- A Inteligência Artificial é a imitação da vida\n",
    "- 1950: os primeiros computadores construindo a história da IA\n",
    "- Inverno da IA: empolgação seguida por uma desilusão\n",
    "- IA baseada em lógica foi perdendo espaço para uma IA baseada em Dados e Estatística\n",
    "- Machine Learning aplicado ao comércio\n",
    "- Redes Neurais, Big Data (Cloud Computer e Databricks)\n",
    "- \"Maquina Viva\" : mitologia, grecia antiga, china\n",
    "- XVII : dispositivos \"autômatos\".\n",
    "- Filosofos - pensamento humano pode ser simulado por símbolos\n",
    "- Alan Turing (1912-1954): teste máquina de turing (máquina tem ou não tem inteligência similar a humana)\n",
    "- Quem você considera inteligente:\n",
    "-Linguística\n",
    "-Artística\n",
    "-Númerica\n",
    "-Sensorial\n",
    "-Espacial\n",
    "-Emocional\n",
    "-Física\n",
    "-Reflexiva\n",
    "\"Eu sei que sou inteligente porque eu sei que nada sei\" Socrátes"
   ]
  }
 ],
 "metadata": {
  "language_info": {
   "name": "python"
  },
  "orig_nbformat": 4
 },
 "nbformat": 4,
 "nbformat_minor": 2
}
